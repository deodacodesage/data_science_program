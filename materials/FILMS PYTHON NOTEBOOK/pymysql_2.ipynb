{
 "cells": [
  {
   "cell_type": "code",
   "execution_count": 1,
   "metadata": {},
   "outputs": [
    {
     "name": "stdout",
     "output_type": "stream",
     "text": [
      "FALSE 30000000 United States of America 21.946943 1995-10-30 373554033.0 81.0 Toy Story 7.7\n",
      "FALSE 65000000 United States of America 17.015539 1995-12-15 262797249.0 104.0 Jumanji 6.9\n",
      "FALSE 0 United States of America 11.7129 1995-12-22 0.0 101.0 Grumpier Old Men 6.5\n",
      "FALSE 16000000 United States of America 3.859495 1995-12-22 81452156.0 127.0 Waiting to Exhale 6.1\n",
      "FALSE 0 United States of America 8.387519 1995-02-10 76578911.0 106.0 Father of the Bride Part II 5.7\n",
      "FALSE 60000000 United States of America 17.924927 1995-12-15 187436818.0 170.0 Heat 7.7\n",
      "FALSE 58000000 Germany 6.677277 1995-12-15 0.0 127.0 Sabrina 6.2\n",
      "FALSE 0 United States of America 2.561161 1995-12-22 0.0 97.0 Tom and Huck 5.4\n",
      "FALSE 35000000 United States of America 5.23158 1995-12-22 64350171.0 106.0 Sudden Death 5.5\n",
      "FALSE 58000000 United Kingdom 14.686036 1995-11-16 352194034.0 130.0 GoldenEye 6.6\n",
      "FALSE 62000000 United States of America 6.318445 1995-11-17 107879496.0 106.0 The American President 6.5\n",
      "FALSE 0 France 5.430331 1995-12-22 0.0 88.0 Dracula: Dead and Loving It 5.7\n",
      "FALSE 0 United States of America 12.140733 1995-12-22 11348324.0 78.0 Balto 7.1\n",
      "FALSE 44000000 United States of America 5.092 1995-12-22 13681765.0 192.0 Nixon 7.1\n",
      "FALSE 98000000 France 7.284477 1995-12-22 10017322.0 119.0 Cutthroat Island 5.7\n",
      "FALSE 52000000 France 10.137389 1995-11-22 116112375.0 178.0 Casino 7.8\n",
      "FALSE 16500000 United Kingdom 10.673167 1995-12-13 135000000.0 136.0 Sense and Sensibility 7.2\n",
      "FALSE 4000000 United States of America 9.026586 1995-12-09 4300000.0 98.0 Four Rooms 6.5\n",
      "FALSE 30000000 United States of America 8.205448 1995-11-10 212385533.0 90.0 Ace Ventura: When Nature Calls 6.1\n",
      "FALSE 60000000 United States of America 7.337906 1995-11-21 35431113.0 103.0 Money Train 5.4\n",
      "FALSE 30250000 United States of America 12.669608 1995-10-20 115101622.0 105.0 Get Shorty 6.4\n",
      "FALSE 0 United States of America 10.701801 1995-10-27 0.0 124.0 Copycat 6.5\n",
      "FALSE 50000000 France 11.065939 1995-10-06 30303072.0 132.0 Assassins 6.0\n",
      "FALSE 0 United States of America 12.133094 1995-10-27 0.0 111.0 Powder 6.3\n",
      "FALSE 3600000 United States of America 10.332025 1995-10-27 49800000.0 112.0 Leaving Las Vegas 7.1\n",
      "FALSE 0 Italy 1.845899 1995-12-15 0.0 123.0 Othello 7.0\n",
      "FALSE 12000000 United States of America 8.681325 1995-10-20 27400000.0 100.0 Now and Then 6.6\n",
      "FALSE 0 United Kingdom 2.228434 1995-09-27 0.0 104.0 Persuasion 7.4\n",
      "FALSE 18000000 France 9.822423 1995-05-16 1738611.0 108.0 The City of Lost Children 7.6\n",
      "FALSE 0 China 1.100915 1995-04-30 0.0 108.0 Shanghai Triad 6.5\n",
      "FALSE 0 United States of America 9.481338 1995-08-11 180000000.0 99.0 Dangerous Minds 6.4\n",
      "FALSE 29500000 United States of America 12.297305 1995-12-29 168840000.0 129.0 Twelve Monkeys 7.4\n",
      "FALSE 0 France 0.745542 1996-09-18 0.0 50.0 Wings of Courage 6.8\n",
      "FALSE 30000000 Australia 14.404764 1995-07-18 254134910.0 89.0 Babe 6.0\n",
      "FALSE 0 France 1.493361 1995-11-08 0.0 121.0 Carrington 6.4\n",
      "FALSE 11000000 United States of America 6.891317 1995-12-29 39363635.0 122.0 Dead Man Walking 7.3\n",
      "FALSE 0 United States of America 0.114469 1995-10-20 0.0 51.0 Across the Sea of Time 3.5\n",
      "FALSE 0 United States of America 7.777735 1995-11-17 0.0 101.0 It Takes Two 6.1\n",
      "FALSE 12000000 United States of America 9.882383 1995-07-19 0.0 97.0 Clueless 6.9\n",
      "FALSE 0 South Africa 0.894647 1995-12-15 676525.0 106.0 Cry, the Beloved Country 6.7\n",
      "FALSE 0 United Kingdom 4.561387 1995-12-29 0.0 104.0 Richard III 6.9\n",
      "FALSE 10000000 United States of America 9.87957 1995-10-06 0.0 119.0 Dead Presidents 6.6\n",
      "FALSE 19000000 United States of America 10.979269 1995-12-29 0.0 117.0 Restoration 6.3\n",
      "FALSE 18000000 United States of America 10.870138 1995-08-18 122195920.0 101.0 Mortal Kombat 5.4\n",
      "FALSE 20000000 United States of America 10.448481 1995-05-20 21284514.0 106.0 To Die For 6.7\n",
      "FALSE 10000000 United States of America 4.485958 1995-10-06 23574130.0 116.0 How To Make An American Quilt 6.5\n",
      "FALSE 33000000 United States of America 18.45743 1995-09-22 327311859.0 127.0 Se7en 8.1\n",
      "FALSE 55000000 United States of America 13.280069 1995-06-14 346079773.0 81.0 Pocahontas 6.7\n",
      "FALSE 0 Canada 3.302524 1995-05-05 0.0 96.0 When Night Is Falling 5.9\n",
      "FALSE 6000000 United States of America 16.302466 1995-07-19 23341568.0 106.0 The Usual Suspects 8.1\n",
      "FALSE 0 none 0.595949 1994-11-22 0.0 93.0 Guardian Angel 6.3\n",
      "FALSE 15000000 United States of America 15.899134 1995-09-13 6700000.0 95.0 Mighty Aphrodite 6.7\n",
      "FALSE 0 Italy 1.361286 1994-01-01 0.0 116.0 Lamerica 7.7\n",
      "FALSE 0 United States of America 5.982764 1995-09-29 0.0 100.0 The Big Green 5.2\n",
      "FALSE 0 France 4.093443 1995-05-19 0.0 115.0 Georgia 6.1\n",
      "FALSE 0 none 0.307075 1997-07-08 0.0 89.0 Kids of the Round Table 3.0\n",
      "FALSE 0 United States of America 8.416802 1995-11-02 17519169.0 103.0 Home for the Holidays 6.3\n",
      "FALSE 0 Belgium 10.168437 1994-09-22 0.0 108.0 The Postman 7.6\n",
      "FALSE 0 Canada 0.120789 1995-09-29 0.0 100.0 The Confessional 6.5\n",
      "FALSE 45000000 United States of America 10.673296 1995-07-14 0.0 96.0 The Indian in the Cupboard 5.9\n",
      "FALSE 20000000 United States of America 4.733526 1996-01-12 0.0 101.0 Eye for an Eye 5.8\n",
      "FALSE 0 United States of America 7.137117 1995-12-29 106269971.0 137.0 Mr. Holland's Opus 6.9\n",
      "FALSE 0 United States of America 11.700115 1996-01-12 0.0 89.0 Don't Be a Menace to South Central While Drinking Your Juice in the Hood 6.2\n",
      "FALSE 0 United States of America 2.174487 1996-01-12 0.0 96.0 Two If by Sea 4.5\n",
      "FALSE 15000000 United States of America 6.387469 1996-01-12 0.0 88.0 Bio-Dome 4.4\n",
      "FALSE 0 United States of America 2.49535 1996-01-12 2409225.0 92.0 Lawnmower Man 2: Beyond Cyberspace 2.8\n",
      "FALSE 0 United States of America 4.046208 1995-10-22 0.0 85.0 Two Bits 5.4\n",
      "FALSE 0 France 2.518051 1995-02-08 0.0 95.0 French Twist 6.0\n",
      "FALSE 3500000 United States of America 14.56965 1995-04-26 28215918.0 91.0 Friday 7.0\n",
      "FALSE 19000000 United States of America 15.339153 1996-01-19 25836616.0 108.0 From Dusk Till Dawn 6.9\n",
      "FALSE 50000000 United States of America 5.912223 1995-11-03 11534477.0 91.0 Fair Game 4.1\n",
      "FALSE 0 United States of America 3.367276 1995-10-06 718490.0 96.0 Kicking and Screaming 7.0\n",
      "FALSE 0 France 1.479446 1995-03-22 0.0 175.0 Les Miserables 6.6\n",
      "FALSE 0 United States of America 10.412194 1996-01-26 19030691.0 87.0 Bed of Roses 5.1\n",
      "FALSE 15000000 United States of America 2.936443 1996-01-26 2042530.0 90.0 Big Bully 3.9\n",
      "FALSE 20000000 Canada 12.758848 1995-09-08 5781885.0 108.0 Screamers 6.1\n",
      "FALSE 0 Germany 0.133893 1995-02-18 0.0 70.0 Nico Icon 7.3\n",
      "FALSE 0 United States of America 5.756462 1995-11-15 0.0 111.0 The Crossing Guard 6.1\n",
      "FALSE 44000000 United States of America 6.010579 1996-02-02 0.0 118.0 The Juror 5.5\n",
      "FALSE 0 Iran 1.196256 1995-01-01 0.0 85.0 The White Balloon 7.5\n",
      "FALSE 8000000 United States of America 4.486179 1995-12-01 529766.0 116.0 Things to Do in Denver When You're Dead 6.7\n",
      "FALSE 900000 Netherlands 2.030174 1995-09-12 0.0 102.0 Antonia's Line 7.2\n",
      "FALSE 0 United States of America 0.252287 1996-01-26 0.0 115.0 Once Upon a Time... When We Were Colored 4.5\n",
      "FALSE 0 none 0.531159 1995-11-22 0.0 108.0 Last Summer in the Hamptons 0.0\n",
      "FALSE 0 United Kingdom 2.15166 1995-09-10 0.0 118.0 Angels and Insects 6.3\n",
      "FALSE 38000000 United States of America 9.568604 1996-02-02 10300000.0 129.0 White Squall 6.3\n",
      "FALSE 16000000 United States of America 4.814825 1996-01-12 0.0 88.0 Dunston Checks In 5.1\n",
      "FALSE 0 United States of America 8.963037 1996-02-01 32.0 87.0 Black Sheep 6.0\n",
      "FALSE 8169363 United States of America 6.848591 1995-11-22 8175346.0 90.0 Nick of Time 6.1\n",
      "FALSE 0 United States of America 0.411424 1995-09-14 0.0 91.0 The Journey of August King 6.7\n",
      "FALSE 47000000 United States of America 12.866139 1996-02-23 12379402.0 104.0 Mary Reilly 5.7\n",
      "FALSE 14000000 United States of America 9.071127 1995-10-26 19800000.0 100.0 Vampire in Brooklyn 4.5\n",
      "FALSE 0 United States of America 4.670562 1996-02-09 0.0 112.0 Beautiful Girls 6.6\n",
      "FALSE 50000000 United States of America 14.957626 1996-02-09 150270147.0 108.0 Broken Arrow 5.7\n",
      "FALSE 0 United Kingdom 0.513391 1995-12-01 0.0 99.0 A Midwinter's Tale 7.5\n",
      "FALSE 3000000 France 12.108196 1995-05-31 0.0 98.0 La Haine 7.9\n",
      "FALSE 0 United Kingdom 2.657647 1994-12-06 0.0 105.0 Shopping 5.6\n",
      "FALSE 0 United Kingdom 0.638211 1995-12-27 0.0 106.0 Heidi Fleiss: Hollywood Madam 6.8\n",
      "FALSE 0 United States of America 4.807223 1996-02-16 0.0 111.0 City Hall 6.0\n",
      "FALSE 7000000 United States of America 6.904831 1996-02-21 560069.0 91.0 Bottle Rocket 6.8\n",
      "FALSE 0 United States of America 3.329264 1996-02-16 0.0 96.0 Mr. Wrong 3.3\n",
      "FALSE 18000000 United States of America 2.464425 1996-02-23 0.0 106.0 Unforgettable 5.3\n",
      "FALSE 12000000 United States of America 9.592265 1996-02-16 41205099.0 92.0 Happy Gilmore 6.5\n",
      "FALSE 24000000 United States of America 5.951077 1995-05-28 182016617.0 135.0 The Bridges of Madison County 7.3\n",
      "FALSE 0 Germany 1.015068 1994-11-07 0.0 104.0 Nobody Loves Me 5.1\n",
      "FALSE 0 United States of America 6.902423 1996-02-16 34327391.0 100.0 Muppet Treasure Island 6.5\n",
      "FALSE 0 none 0.976707 1995-12-08 0.0 95.0 Catwalk 7.0\n",
      "FALSE 0 none 0.001346 1995-05-20 0.0 110.0 Headless Body in Topless Bar 0.0\n",
      "FALSE 72000000 United States of America 20.755149 1995-05-24 210000000.0 177.0 Braveheart 7.7\n"
     ]
    },
    {
     "name": "stdout",
     "output_type": "stream",
     "text": [
      "FALSE 1300000 United States of America 14.092713 1976-02-07 28262574.0 114.0 Taxi Driver 8.1\n",
      "FALSE 7500000 Hong Kong 12.314278 1995-01-30 32392047.0 91.0 Rumble in the Bronx 6.5\n",
      "FALSE 35000000 United States of America 2.938293 1996-02-23 0.0 108.0 Before and After 5.8\n",
      "FALSE 0 Canada 0.372697 1995-09-13 0.0 114.0 Margaret's Museum 7.5\n",
      "FALSE 13365000 France 1.254885 1995-01-31 0.0 106.0 Happiness Is in the Field 7.0\n",
      "FALSE 0 United Kingdom 0.243986 1995-06-08 1.0 117.0 Anne Frank Remembered 7.3\n",
      "FALSE 0 Germany 6.178497 1995-01-20 0.0 99.0 The Young Poisoner's Handbook 6.9\n",
      "FALSE 0 United States of America 2.891918 1996-03-08 0.0 92.0 If Lucy Fell 5.4\n",
      "FALSE 25000000 United States of America 1.522412 1995-09-29 6278139.0 113.0 Steal Big Steal Little 5.1\n",
      "FALSE 0 United States of America 1.317878 1996-03-22 0.0 100.0 Race the Sun 5.2\n",
      "FALSE 0 Canada 0.86539 1992-12-06 0.0 90.0 The Boys of St. Vincent 7.0\n",
      "FALSE 40000000 United States of America 6.506983 1992-06-30 70100000.0 117.0 Boomerang 5.4\n",
      "FALSE 0 Hong Kong 6.778979 1994-07-14 0.0 102.0 Chungking Express 7.9\n",
      "FALSE 0 Italy 1.702639 1995-09-21 0.0 113.0 The Star Maker 6.8\n",
      "FALSE 7000000 United States of America 5.579088 1996-03-22 14702438.0 92.0 Flirting with Disaster 6.3\n",
      "FALSE 17000000 Germany 6.252377 1994-10-26 0.0 95.0 The Neverending Story III: Escape from Fantasia 4.4\n",
      "FALSE 0 Tunisia 0.406754 1994-09-30 0.0 116.0 The Silences of the Palace 4.3\n",
      "FALSE 0 none 0.001178 1995-01-01 0.0 87.0 Jupiter's Wife 0.0\n",
      "FALSE 0 none 0.699066 1996-02-09 0.0 95.0 Pie in the Sky 7.0\n",
      "FALSE 0 United States of America 2.197439 1995-01-01 0.0 99.0 Angela 5.6\n",
      "FALSE 0 United Kingdom 0.637554 1995-11-22 0.0 101.0 Frankie Starlight 5.4\n",
      "FALSE 50000000 United States of America 11.418917 1995-10-13 9851610.0 95.0 Jade 5.1\n",
      "FALSE 0 Dominican Republic 0.291021 1995-08-16 0.0 102.0 Nueba Yol 5.5\n",
      "FALSE 0 United States of America 0.001838 1995-08-01 0.0 87.0 Sonic Outlaws 0.0\n",
      "FALSE 0 United States of America 5.184977 1996-03-01 0.0 92.0 Down Periscope 5.6\n",
      "FALSE 0 United States of America 0.276401 1995-09-08 0.0 97.0 From the Journals of Jean Seberg 6.5\n",
      "FALSE 0 United States of America 0.540436 1995-09-15 209935.0 86.0 Man of the Year 3.8\n",
      "FALSE 0 United Kingdom 0.370342 1995-08-23 0.0 91.0 The Neon Bible 7.2\n",
      "FALSE 0 none 0.001205 1995-08-01 0.0 122.0 Target 0.0\n",
      "FALSE 60000000 United States of America 3.402749 1996-03-01 0.0 119.0 Up Close & Personal 5.9\n",
      "FALSE 31000000 United States of America 6.49968 1996-03-08 185260553.0 117.0 The Birdcage 6.7\n",
      "FALSE 0 Croatia 0.918504 1995-10-12 0.0 125.0 Virgin Mary 7.0\n",
      "FALSE 0 United States of America 2.039196 1995-08-09 0.0 98.0 The Brothers McMullen 6.3\n",
      "FALSE 19000000 United States of America 9.262184 1995-04-07 141407024.0 118.0 Bad Boys 6.5\n",
      "FALSE 0 United States of America 2.375865 1995-08-25 0.0 81.0 The Amazing Panda Adventure 5.0\n",
      "FALSE 0 United States of America 7.415144 1995-04-21 0.0 102.0 The Basketball Diaries 7.2\n",
      "FALSE 4000000 United Kingdom 0.922958 1995-07-21 851545.0 113.0 An Awfully Big Adventure 6.0\n",
      "FALSE 0 France 1.759012 1994-08-05 0.0 105.0 Amateur 6.5\n",
      "FALSE 52000000 United States of America 18.761467 1995-06-30 355237933.0 140.0 Apollo 13 7.3\n",
      "FALSE 28000000 United Kingdom 10.193549 1995-04-13 31596911.0 139.0 Rob Roy 6.5\n",
      "FALSE 0 United States of America 3.137285 1995-01-10 0.0 82.0 The Addiction 6.4\n",
      "FALSE 100000000 United Kingdom 13.321354 1995-06-16 336529144.0 121.0 Batman Forever 5.2\n",
      "FALSE 0 France 10.142662 1967-05-24 0.0 101.0 Belle de Jour 7.3\n",
      "FALSE 0 none 2.04189 1995-05-24 0.0 100.0 Beyond Rangoon 6.4\n",
      "FALSE 2000000 United States of America 11.528147 1995-09-15 1275000.0 83.0 Blue in the Face 6.8\n",
      "FALSE 11000000 Canada 5.391556 1995-06-08 178104.0 91.0 Canadian Bacon 5.9\n",
      "FALSE 50000000 United States of America 12.812539 1995-05-26 287928194.0 100.0 Casper 6.0\n",
      "FALSE 25000000 United States of America 4.558992 1995-09-15 13071518.0 128.0 Clockers 6.8\n",
      "FALSE 50000000 United States of America 7.260574 1995-06-09 152022101.0 109.0 Congo 5.0\n",
      "FALSE 53000000 United States of America 8.657365 1995-05-12 157387195.0 116.0 Crimson Tide 7.0\n",
      "FALSE 0 United States of America 3.620388 1994-09-10 3174695.0 119.0 Crumb 7.6\n",
      "FALSE 7000000 United States of America 6.950458 1995-08-25 25405445.0 104.0 Desperado 6.8\n",
      "FALSE 27000000 United States of America 4.646132 1995-09-15 16140822.0 102.0 Devil in a Blue Dress 6.3\n",
      "FALSE 90000000 United States of America 15.138855 1995-05-19 366101666.0 128.0 Die Hard: With a Vengeance 6.9\n",
      "FALSE 0 France 7.120806 1995-10-27 0.0 80.0 The Doom Generation 5.6\n",
      "FALSE 0 none 0.523575 1995-10-12 0.0 116.0 Feast of July 0.0\n",
      "FALSE 55000000 United States of America 15.178338 1995-07-07 127600435.0 134.0 First Knight 5.9\n",
      "FALSE 0 France 7.575098 1995-07-19 0.0 95.0 Free Willy 2 - The Adventure Home 5.5\n",
      "FALSE 20000000 United States of America 14.810519 1995-09-14 7563728.0 107.0 Hackers 6.2\n",
      "FALSE 0 United States of America 3.196456 1995-08-18 0.0 92.0 Jeffrey 6.5\n",
      "FALSE 25000000 Canada 11.715868 1995-05-26 19075720.0 97.0 Johnny Mnemonic 5.5\n",
      "FALSE 90000000 United States of America 8.184815 1995-06-30 113493481.0 96.0 Judge Dredd 5.4\n",
      "FALSE 0 United States of America 3.676921 1995-04-12 17014653.0 88.0 Jury Duty 4.0\n",
      "FALSE 1500000 United States of America 4.877872 1995-07-28 7412216.0 91.0 Kids 6.8\n",
      "FALSE 500000 United States of America 10.058329 1995-01-20 1148752.0 89.0 Living in Oblivion 7.2\n",
      "FALSE 0 United States of America 4.102409 1995-08-25 0.0 119.0 Lord of Illusions 5.9\n",
      "FALSE 0 Canada 0.354014 1993-05-20 0.0 100.0 Love & Human Remains 7.0\n",
      "FALSE 0 United States of America 2.624771 1995-05-26 15453274.0 95.0 Mad Love 5.5\n",
      "FALSE 6000000 United States of America 8.25547 1995-10-20 2122561.0 94.0 Mallrats 6.8\n",
      "FALSE 15000000 Japan 7.024227 1995-06-30 66000000.0 92.0 Mighty Morphin Power Rangers: The Movie 5.2\n",
      "FALSE 0 United Kingdom 1.01115 1995-09-29 0.0 100.0 Moonlight and Valentino 5.6\n",
      "FALSE 2 Germany 2.466066 1995-09-28 1.0 95.0 Mute Witness 6.4\n",
      "FALSE 0 United States of America 7.720056 1994-09-13 0.0 93.0 Nadja 5.9\n",
      "FALSE 22000000 United States of America 13.304342 1995-07-28 110627965.0 114.0 The Net 5.6\n",
      "FALSE 0 United States of America 8.482834 1995-07-12 69660733.0 103.0 Nine Months 5.5\n",
      "FALSE 150000 United States of America 1.165039 1995-06-09 472370.0 94.0 Party Girl 5.8\n",
      "FALSE 8 United States of America 10.187623 1995-09-01 16.0 98.0 The Prophecy 6.4\n",
      "FALSE 0 United States of America 0.119713 1995-11-17 0.0 91.0 Reckless 10.0\n",
      "FALSE 0 United Kingdom 8.180047 1995-06-23 0.0 119.0 Safe 7.2\n",
      "FALSE 50000000 United States of America 6.752119 1995-10-13 10382407.0 135.0 The Scarlet Letter 5.5\n",
      "FALSE 0 none 0.159596 1995-08-25 0.0 93.0 The Show 5.3\n",
      "FALSE 45000000 France 17.502375 1995-09-22 20350754.0 128.0 Showgirls 4.9\n",
      "FALSE 7000000 Germany 5.552946 1995-06-09 8349430.0 112.0 Smoke 7.2\n",
      "FALSE 0 United States of America 3.743212 1995-08-04 50892160.0 106.0 Something to Talk About 5.7\n",
      "FALSE 35000000 United States of America 13.492845 1995-07-07 113374103.0 108.0 Species 5.5\n",
      "FALSE 0 United States of America 0.913522 1995-09-15 0.0 109.0 The Stars Fell on Henrietta 6.6\n",
      "FALSE 42000000 United States of America 11.223055 1995-10-13 7959291.0 145.0 Strange Days 6.8\n",
      "FALSE 0 Germany 8.133881 1964-02-19 0.0 91.0 The Umbrellas of Cherbourg 7.6\n",
      "FALSE 14000000 United States of America 1.820419 1995-09-08 5780000.0 99.0 The Tie That Binds 4.6\n",
      "FALSE 0 United States of America 11.002046 1995-10-27 7025496.0 115.0 Three Wishes 6.1\n",
      "FALSE 0 France 4.546552 1995-11-02 339889.0 111.0 Total Eclipse 6.5\n",
      "FALSE 0 United States of America 7.653446 1995-09-07 47774193.0 105.0 To Wong Foo, Thanks for Everything! Julie Newmar 6.3\n",
      "FALSE 60000000 United States of America 7.490247 1995-07-13 104324083.0 100.0 Under Siege 2: Dark Territory 5.6\n",
      "FALSE 0 none 2.881689 1995-09-15 0.0 93.0 Unstrung Heroes 6.4\n",
      "FALSE 0 United States of America 0.786023 1995-08-11 0.0 73.0 Unzipped 6.0\n",
      "FALSE 20000000 United States of America 9.715639 1995-08-11 50012507.0 103.0 A Walk in the Clouds 6.5\n",
      "FALSE 175000000 United States of America 16.885184 1995-07-28 264218220.0 135.0 Waterworld 5.9\n",
      "FALSE 8000000 France 1.834099 1995-12-01 0.0 89.0 White Man's Burden 5.1\n",
      "FALSE 30000000 none 8.922139 1995-12-01 0.0 98.0 Wild Bill 5.9\n",
      "FALSE 0 United Kingdom 3.727644 1994-10-12 0.0 97.0 The Browning Version 6.0\n",
      "FALSE 0 United States of America 3.287036 1995-08-04 0.0 90.0 Bushwhacked 4.9\n",
      "FALSE 2800000 France 2.486073 1994-05-01 2616503.0 135.0 Burnt by the Sun 6.7\n",
      "FALSE 0 United Kingdom 3.525649 1994-06-09 763847.0 113.0 Before the Rain 7.7\n",
      "FALSE 2500000 Austria 11.304979 1995-01-27 5535405.0 105.0 Before Sunrise 7.7\n",
      "FALSE 10000000 United States of America 6.638116 1995-02-10 26488734.0 89.0 Billy Madison 6.2\n",
      "FALSE 0 United States of America 2.761837 1995-10-17 0.0 90.0 The Babysitter 4.7\n",
      "FALSE 21000000 France 3.030309 1995-02-03 23450000.0 115.0 Boys on the Side 6.3\n",
      "FALSE 0 United States of America 2.686342 1995-04-21 0.0 97.0 The Cure 7.2\n",
      "FALSE 0 United States of America 2.26977 1995-08-04 0.0 95.0 Castle Freak 5.8\n",
      "FALSE 0 Ireland 2.605521 1995-03-16 0.0 103.0 Circle of Friends 6.5\n",
      "FALSE 27000 United States of America 10.513367 1994-09-13 3151130.0 92.0 Clerks 7.4\n"
     ]
    },
    {
     "name": "stdout",
     "output_type": "stream",
     "text": [
      "FALSE 25000000 United States of America 7.438934 1994-10-01 22200000.0 97.0 Don Juan DeMarco 6.3\n",
      "FALSE 55000000 United States of America 11.812244 1994-12-09 214015089.0 123.0 Disclosure 5.9\n",
      "FALSE 0 United States of America 0.155859 1995-01-01 0.0 0.0 Dream Man 2.5\n",
      "FALSE 45000000 United States of America 9.579155 1994-12-08 0.0 101.0 Drop Zone 5.1\n",
      "FALSE 0 United States of America 0.710671 1995-04-28 0.0 0.0 Destiny Turns on the Radio 5.3\n",
      "FALSE 0 United States of America 5.484156 1994-05-04 0.0 103.0 Death and the Maiden 7.1\n",
      "FALSE 0 United States of America 5.8025 1995-03-24 0.0 132.0 Dolores Claiborne 7.1\n",
      "FALSE 16000000 United States of America 9.844558 1994-12-16 247275374.0 107.0 Dumb and Dumber 6.5\n",
      "FALSE 0 Taiwan 4.860016 1994-08-03 7294403.0 123.0 Eat Drink Man Woman 7.5\n",
      "FALSE 0 Canada 5.378467 1994-09-24 0.0 103.0 Exotica 6.5\n",
      "FALSE 0 United States of America 4.322726 1994-10-14 6841570.0 113.0 Exit to Eden 4.3\n",
      "FALSE 18000000 United States of America 11.720358 1994-09-27 5887457.0 127.0 Ed Wood 7.3\n",
      "FALSE 0 United Kingdom 9.146544 1995-05-05 0.0 111.0 French Kiss 6.2\n",
      "FALSE 0 United States of America 16.236745 1995-05-19 0.0 101.0 Forget Paris 6.1\n",
      "FALSE 0 United States of America 2.657337 1995-01-13 0.0 87.0 Far from Home: The Adventures of Yellow Dog 5.6\n",
      "FALSE 0 United States of America 10.177977 1995-04-07 35348597.0 78.0 A Goofy Movie 6.7\n",
      "FALSE 15000000 United States of America 8.182165 1995-03-03 12201255.0 103.0 Hideaway 5.0\n",
      "FALSE 0 United States of America 4.953936 1995-06-02 0.0 96.0 Fluke 6.6\n",
      "FALSE 0 Belgium 8.935058 1994-12-07 0.0 111.0 Farinelli 5.9\n",
      "FALSE 0 United States of America 0.398924 1995-05-12 3992809.0 90.0 Gordy 3.0\n",
      "FALSE 0 none 0.090452 1995-12-01 0.0 77.0 Gumby: The Movie 5.0\n",
      "FALSE 0 United States of America 1.012197 1994-09-16 0.0 109.0 The Glass Shield 5.4\n",
      "FALSE 700000 United States of America 9.47666 1994-09-12 7830611.0 171.0 Hoop Dreams 7.7\n",
      "FALSE 5000000 New Zealand 9.438042 1994-09-02 3049135.0 99.0 Heavenly Creatures 6.9\n",
      "FALSE 10500000 none 2.688562 1995-01-06 26325256.0 113.0 Houseguest 6.0\n",
      "FALSE 120 United States of America 7.983666 1994-12-16 0.0 121.0 Immortal Beloved 6.9\n",
      "FALSE 0 United States of America 9.546707 1995-02-17 17689177.0 100.0 Heavyweights 6.0\n",
      "FALSE 0 United States of America 2.756986 1995-02-24 0.0 106.0 The Hunted 6.0\n",
      "FALSE 25000000 United States of America 5.146352 1994-12-24 0.0 100.0 I.Q. 5.9\n",
      "FALSE 60000000 United States of America 11.970205 1994-11-11 223664608.0 123.0 Interview with the Vampire 7.2\n",
      "FALSE 14000000 United States of America 1.596058 1995-03-31 2474000.0 139.0 Jefferson in Paris 5.2\n",
      "FALSE 0 United States of America 0.748846 1995-02-03 0.0 82.0 The Jerky Boys 4.8\n",
      "FALSE 60000000 United States of America 6.710215 1994-11-22 37000000.0 109.0 Junior 4.7\n",
      "FALSE 0 United States of America 9.195256 1995-02-17 0.0 102.0 Just Cause 6.0\n",
      "FALSE 0 none 5.874511 1995-08-11 0.0 89.0 A Kid in King Arthur's Court 4.3\n",
      "FALSE 40000000 United States of America 7.797512 1995-04-21 0.0 101.0 Kiss of Death 5.7\n",
      "FALSE 11000000 United States of America 42.149697 1977-05-25 775398007.0 121.0 Star Wars 8.1\n",
      "FALSE 18000000 United States of America 9.774994 1994-12-21 0.0 115.0 Little Women 7.0\n",
      "FALSE 17000000 United States of America 7.731725 1995-05-10 0.0 97.0 A Little Princess 7.4\n",
      "FALSE 0 United Kingdom 0.84508 1994-02-18 0.0 101.0 Ladybird Ladybird 7.4\n",
      "FALSE 10000000 France 1.948315 1994-02-16 0.0 100.0 L'Enfer 6.6\n",
      "FALSE 2000000 Mexico 4.126083 1992-04-16 21665468.0 105.0 Like Water for Chocolate 6.6\n",
      "FALSE 30000000 United States of America 12.199047 1994-12-16 160638883.0 133.0 Legends of the Fall 7.2\n",
      "FALSE 0 United States of America 9.253362 1995-03-24 0.0 95.0 Major Payne 6.1\n",
      "FALSE 0 United States of America 1.861292 1994-10-27 0.0 98.0 Little Odessa 6.4\n",
      "FALSE 0 United States of America 1.788829 1994-06-08 0.0 92.0 Mi Vida Loca 5.7\n",
      "FALSE 60000000 United States of America 3.290192 1994-10-21 0.0 108.0 Love Affair 4.3\n",
      "FALSE 17000000 United States of America 7.698526 1995-03-17 7603766.0 106.0 Losing Isaiah 6.4\n",
      "FALSE 0 United Kingdom 4.81307 1994-12-28 0.0 107.0 The Madness of King George 6.7\n",
      "FALSE 45000000 United Kingdom 14.287753 1994-11-04 112006296.0 123.0 Mary Shelley's Frankenstein 6.1\n",
      "FALSE 0 none 2.558118 1995-03-03 0.0 96.0 Man of the House 5.1\n",
      "FALSE 15000000 United States of America 2.899608 1994-12-21 0.0 97.0 Mixed Nuts 5.2\n",
      "FALSE 0 United States of America 3.770115 1994-08-31 18137661.0 108.0 Milk Money 5.6\n",
      "FALSE 0 United States of America 5.831622 1994-11-18 46264384.0 114.0 Miracle on 34th Street 6.4\n",
      "FALSE 6 United States of America 1.137266 1995-01-27 5.0 95.0 Miami Rhapsody 5.6\n",
      "FALSE 5500000 United States of America 3.121288 1995-05-03 0.0 128.0 My Family 7.0\n",
      "FALSE 0 France 9.518564 1995-01-20 17381942.0 122.0 Murder in the First 6.9\n",
      "FALSE 0 United States of America 2.891269 1994-12-23 0.0 110.0 Nobody's Fool 7.0\n",
      "FALSE 31000000 United States of America 5.930957 1994-12-23 106683817.0 112.0 Nell 6.1\n",
      "FALSE 0 United States of America 0.629955 1995-04-19 0.0 98.0 New Jersey Drive 6.9\n",
      "FALSE 0 Japan 0.004537 1993-08-14 0.0 93.0 New York Cop 0.0\n",
      "FALSE 4800000 United Kingdom 0.426952 1994-04-22 0.0 89.0 Beyond Bedlam 4.0\n",
      "FALSE 0 United States of America 1.466491 1995-09-26 0.0 83.0 Nemesis 2 - Nebula 4.6\n",
      "FALSE 0 none 0.769522 1995-03-03 0.0 100.0 Nina Takes a Lover 7.4\n",
      "FALSE 34000000 United States of America 11.226856 1994-08-25 50282766.0 119.0 Natural Born Killers 6.9\n",
      "FALSE 0 United States of America 4.936761 1994-09-17 0.0 115.0 Only You 6.4\n",
      "FALSE 0 New Zealand 4.025276 1994-09-02 2201126.0 99.0 Once Were Warriors 7.6\n",
      "FALSE 0 United States of America 6.448039 1996-01-16 0.0 106.0 Poison Ivy II: Lily 4.6\n",
      "FALSE 50000000 United States of America 13.676444 1995-03-10 189859560.0 127.0 Outbreak 6.4\n",
      "FALSE 16000000 France 20.477329 1994-09-14 45284974.0 110.0 Leon: The Professional 8.2\n",
      "FALSE 11000000 United States of America 1.433544 1995-05-12 2832826.0 113.0 The Perez Family 6.6\n",
      "FALSE 0 United States of America 0.463307 1995-04-28 0.0 94.0 A Pyromaniac's Love Story 7.0\n",
      "FALSE 8000000 United States of America 140.950236 1994-09-10 213928762.0 154.0 Pulp Fiction 8.3\n",
      "FALSE 0 United Kingdom 7.160149 1995-11-10 6834525.0 124.0 Panther 6.4\n",
      "FALSE 400000 Taiwan 1.638622 1992-02-01 152322.0 105.0 Pushing Hands 6.1\n",
      "FALSE 0 United Kingdom 1.881932 1994-01-01 4176932.0 98.0 Priest 6.4\n",
      "FALSE 0 United States of America 7.772505 1994-09-16 0.0 133.0 Quiz Show 7.1\n",
      "FALSE 0 Japan 1.296912 1995-05-05 0.0 94.0 Picture Bride 7.4\n",
      "FALSE 0 France 4.405405 1994-05-13 0.0 162.0 Queen Margot 7.0\n",
      "FALSE 32000000 Japan 7.54701 1995-02-09 18552460.0 107.0 The Quick and the Dead 6.2\n",
      "FALSE 22000000 United States of America 3.395867 1995-03-01 12400000.0 108.0 Roommates 6.4\n",
      "FALSE 15000000 United States of America 6.259433 1994-12-23 11300653.0 133.0 Prêt-à-Porter 5.3\n",
      "FALSE 0 France 7.832755 1994-05-27 0.0 99.0 Three Colors: Red 7.8\n",
      "FALSE 0 France 8.843517 1993-01-10 0.0 98.0 Three Colors: Blue 7.7\n",
      "FALSE 0 France 6.5898 1994-01-26 0.0 91.0 Three Colors: White 7.3\n",
      "FALSE 0 China 0.078257 1994-10-14 0.0 111.0 Red Firecracker, Green Firecracker 7.0\n",
      "FALSE 0 United States of America 1.155255 1995-01-01 0.0 85.0 Rent-a-Kid 5.1\n",
      "FALSE 0 Canada 0.499601 1995-10-03 0.0 90.0 Relative Fear 4.7\n",
      "FALSE 0 Germany 1.390885 1995-04-12 0.0 95.0 Stuart Saves His Family 5.0\n",
      "FALSE 35000000 United States of America 8.910462 1994-11-18 9771658.0 89.0 The Swan Princess 6.5\n",
      "FALSE 0 Ireland 1.750481 1994-01-01 0.0 97.0 The Secret of Roan Inish 6.1\n",
      "FALSE 45000000 Peru 10.388183 1994-10-07 170362582.0 110.0 The Specialist 5.5\n",
      "FALSE 55000000 France 13.328924 1994-10-27 196567262.0 121.0 Stargate 6.8\n",
      "FALSE 22000000 United States of America 9.665424 1994-11-10 189833357.0 97.0 The Santa Clause 6.3\n",
      "FALSE 25000000 United States of America 51.645403 1994-09-23 28341469.0 142.0 The Shawshank Redemption 8.5\n",
      "FALSE 0 United Kingdom 8.223026 1994-12-22 0.0 92.0 Shallow Grave 7.0\n",
      "FALSE 0 United States of America 1.298224 1993-09-14 102780.0 96.0 Suture 6.0\n",
      "FALSE 0 Cuba 1.777197 1993-01-01 0.0 108.0 Strawberry and Chocolate 7.1\n",
      "FALSE 0 United States of America 5.869261 1994-09-10 0.0 101.0 Swimming with Sharks 6.7\n",
      "FALSE 32 Australia 1.407427 1994-07-12 0.0 100.0 The Sum of Us 6.0\n",
      "FALSE 0 Canada 5.05806 1995-09-08 0.0 91.0 Senior Trip 5.7\n",
      "FALSE 0 China 5.260627 1994-06-30 0.0 125.0 To Live 7.7\n",
      "FALSE 25000000 United States of America 7.602087 1995-03-31 4064495.0 98.0 Tank Girl 5.5\n",
      "FALSE 0 United States of America 9.455342 1995-01-13 0.0 92.0 Tales from the Crypt: Demon Knight 6.7\n",
      "FALSE 38000000 United States of America 8.105708 1994-11-17 120000000.0 118.0 Star Trek: Generations 6.4\n",
      "FALSE 6000000 United States of America 2.86007 1995-05-24 12000000.0 98.0 Tales from the Hood 5.4\n",
      "FALSE 0 United Kingdom 0.704204 1994-04-15 0.0 115.0 Tom & Viv 5.8\n",
      "FALSE 0 United States of America 6.529879 1995-04-28 0.0 99.0 Village of the Damned 5.6\n",
      "FALSE 0 United States of America 11.971318 1995-03-31 32648673.0 97.0 Tommy Boy 6.8\n",
      "FALSE 0 United States of America 7.039846 1994-09-13 0.0 119.0 Vanya on 42nd Street 6.1\n",
      "FALSE 6500000 United States of America 2.059771 1995-04-28 0.0 99.0 The Underneath 5.6\n"
     ]
    },
    {
     "name": "stdout",
     "output_type": "stream",
     "text": [
      "FALSE 0 United States of America 0.620873 1995-02-24 0.0 88.0 The Walking Dead 6.6\n",
      "FALSE 11000000 United States of America 10.3919 1993-12-17 10032765.0 118.0 What's Eating Gilbert Grape 7.5\n",
      "FALSE 30000000 United States of America 5.188399 1995-08-04 24048000.0 106.0 Virtuosity 5.4\n",
      "FALSE 17000000 United States of America 15.783615 1995-04-21 182057016.0 103.0 While You Were Sleeping 6.5\n",
      "FALSE 0 United States of America 3.908596 1994-11-04 0.0 126.0 The War 6.3\n",
      "FALSE 0 Canada 0.372239 1994-09-07 759393.0 87.0 Double Happiness 5.5\n",
      "FALSE 3000000 Australia 5.254847 1994-09-29 15119639.0 106.0 Muriel's Wedding 6.9\n",
      "FALSE 0 United States of America 2.15805 1995-08-18 0.0 94.0 The Baby-Sitters Club 5.3\n",
      "FALSE 15000000 United States of America 11.247957 1994-02-04 107217396.0 86.0 Ace Ventura: Pet Detective 6.4\n",
      "FALSE 0 Australia 8.328596 1994-05-31 11220670.0 104.0 The Adventures of Priscilla, Queen of the Desert 7.2\n",
      "FALSE 0 Germany 2.487951 1994-04-01 0.0 100.0 Backbeat 6.2\n",
      "FALSE 5000000 France 11.298195 1992-09-02 1862805.0 139.0 Bitter Moon 7.0\n",
      "FALSE 0 United States of America 5.72288 1994-10-14 0.0 98.0 Bullets Over Broadway 7.0\n",
      "FALSE 62000000 United States of America 7.513245 1994-08-03 215887717.0 141.0 Clear and Present Danger 6.4\n",
      "FALSE 45000000 United States of America 15.263829 1994-07-20 117615211.0 119.0 The Client 6.4\n",
      "FALSE 0 United States of America 6.924689 1994-08-12 0.0 115.0 Corrina, Corrina 6.4\n",
      "FALSE 0 United States of America 2.533022 1994-05-13 0.0 115.0 Crooklyn 6.7\n",
      "FALSE 15000000 United States of America 15.799336 1994-05-11 94000000.0 102.0 The Crow 7.3\n",
      "FALSE 0 United States of America 2.583363 1994-12-02 1007583.0 128.0 Cobb 6.1\n",
      "FALSE 46000000 United States of America 15.019586 1994-05-26 341631208.0 91.0 The Flintstones 5.0\n",
      "FALSE 55000000 United States of America 48.307194 1994-07-06 677945399.0 142.0 Forrest Gump 8.2\n",
      "FALSE 6000000 United Kingdom 8.990345 1994-03-09 254700832.0 117.0 Four Weddings and a Funeral 6.6\n",
      "FALSE 0 United States of America 7.817811 1995-01-11 38290723.0 127.0 Higher Learning 6.4\n",
      "FALSE 0 United States of America 0.289295 1994-10-14 1777020.0 104.0 I Like It Like That 6.3\n",
      "FALSE 45000000 United States of America 3.570874 1994-06-29 61947267.0 123.0 I Love Trouble 5.3\n",
      "FALSE 0 United States of America 11.272073 1994-07-29 0.0 101.0 It Could Happen to You 6.1\n",
      "FALSE 0 United States of America 10.714235 1994-12-23 0.0 111.0 The Jungle Book 5.9\n",
      "FALSE 0 France 0.568884 1993-09-11 449707.0 180.0 The Wonderful, Horrible Life of Leni Riefenstahl 7.3\n",
      "FALSE 45000000 United States of America 21.605761 1994-06-23 788241776.0 89.0 The Lion King 8.0\n",
      "FALSE 35000000 France 5.681522 1993-12-01 4858139.0 140.0 Little Buddha 6.0\n",
      "FALSE 14000000 United States of America 9.860522 1994-10-13 18090181.0 112.0 New Nightmare 6.4\n",
      "FALSE 23000000 United States of America 14.13488 1994-07-29 351583407.0 101.0 The Mask 6.6\n",
      "FALSE 0 United States of America 15.050326 1994-05-20 0.0 127.0 Maverick 6.6\n",
      "FALSE 0 United States of America 4.739054 1994-09-07 0.0 125.0 Mrs. Parker and the Vicious Circle 6.3\n",
      "FALSE 30000000 United States of America 10.587232 1994-03-18 51132598.0 83.0 The Naked Gun 33⅓: The Final Insult 6.4\n",
      "FALSE 6000000 United States of America 4.006063 1994-03-18 0.0 112.0 The Paper 6.1\n",
      "FALSE 11500000 United States of America 6.514592 1994-02-18 20079850.0 99.0 Reality Bites 6.5\n",
      "FALSE 8000000 United States of America 5.137903 1993-07-08 2000000.0 98.0 Red Rock West 6.4\n",
      "FALSE 40000000 United States of America 6.595255 1994-12-19 0.0 95.0 Ri¢hie Ri¢h 5.4\n",
      "FALSE 0 United States of America 4.931565 1994-12-01 0.0 98.0 Safe Passage 4.9\n",
      "FALSE 45000000 United States of America 10.511241 1994-09-30 0.0 111.0 The River Wild 6.1\n",
      "FALSE 30000000 United States of America 10.859292 1994-06-09 350448145.0 116.0 Speed 6.8\n",
      "FALSE 0 United States of America 2.334226 1994-12-16 0.0 99.0 Speechless 5.5\n",
      "FALSE 27000000 Japan 8.907074 1994-09-15 101646581.0 99.0 Timecop 5.5\n",
      "FALSE 115000000 United States of America 11.396099 1994-07-14 378882411.0 141.0 True Lies 6.8\n",
      "FALSE 0 United States of America 4.322544 1994-04-29 50021959.0 126.0 When a Man Loves a Woman 6.0\n",
      "FALSE 0 United States of America 14.063845 1994-06-17 0.0 125.0 Wolf 6.0\n",
      "FALSE 63000000 United States of America 9.277147 1994-06-24 25052000.0 191.0 Wyatt Earp 6.5\n",
      "FALSE 0 United States of America 0.912415 1995-01-20 0.0 108.0 Bad Company 4.9\n",
      "FALSE 0 United Kingdom 0.406113 1994-12-22 953.0 99.0 A Man of No Importance 6.5\n",
      "FALSE 0 United States of America 2.504529 1994-09-15 0.0 96.0 S.F.W. 6.1\n",
      "FALSE 10000000 United States of America 3.021526 1994-11-23 29392418.0 100.0 A Low Down Dirty Shame 6.0\n",
      "FALSE 0 United States of America 0.054148 1994-09-30 0.0 91.0 Boys Life: Three Stories of Love, Lust, and Liberation 2.0\n",
      "FALSE 0 France 0.934312 1994-01-01 0.0 110.0 Colonel Chabert 5.9\n",
      "FALSE 45000 United States of America 4.220541 1965-08-06 0.0 83.0 Faster, Pussycat! Kill! Kill! 6.5\n",
      "FALSE 7000000 United States of America 0.912909 1994-09-28 20851521.0 119.0 Jason's Lyric 5.9\n",
      "FALSE 0 United Kingdom 0.381704 1993-12-10 0.0 61.0 The Secret Adventures of Tom Thumb 7.1\n",
      "FALSE 35000000 Japan 13.58449 1994-12-22 99423521.0 102.0 Street Fighter 4.1\n",
      "FALSE 0 United States of America 2.342756 1995-09-15 0.0 92.0 Coldblooded 6.7\n",
      "FALSE 0 none 0.251223 1997-12-31 0.0 97.0 Desert Winds 0.0\n",
      "FALSE 0 United States of America 1.108494 1995-05-13 0.0 88.0 Fall Time 6.3\n",
      "FALSE 0 United States of America 0.268043 1995-01-20 0.0 98.0 The Fear 3.4\n",
      "FALSE 0 United States of America 0.142357 1995-10-20 0.0 89.0 Frank and Ollie 7.5\n",
      "FALSE 0 United States of America 0.405392 1995-10-24 0.0 89.0 Girl in the Cadillac 10.0\n",
      "FALSE 0 United States of America 0.014925 1995-05-03 0.0 97.0 Homage 0.0\n",
      "FALSE 0 none 0.302957 1995-11-21 0.0 92.0 Mirage 4.0\n",
      "FALSE 0 United States of America 0.012456 1996-05-03 0.0 97.0 Open Season 0.0\n",
      "FALSE 0 none 0.233376 1995-05-26 0.0 0.0 Dos Crímenes 5.0\n",
      "FALSE 0 none 0.0368 1995-03-01 0.0 115.0 Brother Minister: The Assassination of Malcolm X 4.0\n",
      "FALSE 26000000 Canada 6.866634 1994-11-29 36800000.0 99.0 Highlander: The Final Dimension 4.5\n",
      "FALSE 0 none 0.100685 1995-02-24 0.0 97.0 Federal Hill 5.0\n",
      "FALSE 8000000 United States of America 8.497643 1994-12-12 8946600.0 95.0 In the Mouth of Madness 7.1\n",
      "FALSE 0 United States of America 1.888534 1994-02-25 0.0 105.0 8 Seconds 7.2\n",
      "FALSE 0 United States of America 4.38154 1994-03-23 0.0 96.0 Above the Rim 6.7\n",
      "FALSE 0 United States of America 17.555909 1993-11-19 48919043.0 94.0 Addams Family Values 6.5\n",
      "FALSE 0 United States of America 0.394194 1994-04-27 0.0 84.0 Martin Lawrence: You So Crazy 4.5\n",
      "FALSE 34000000 United States of America 8.013617 1993-09-17 32255440.0 139.0 The Age of Innocence 7.0\n",
      "FALSE 0 United States of America 7.09232 1994-08-05 0.0 92.0 Airheads 5.8\n",
      "FALSE 17080000 United States of America 1.896273 1994-01-07 21011500.0 107.0 The Air Up There 5.1\n",
      "FALSE 0 United States of America 12.967239 1993-07-22 0.0 105.0 Another Stakeout 4.9\n",
      "FALSE 0 United States of America 14.644772 1994-04-22 15240435.0 99.0 Bad Girls 4.6\n",
      "FALSE 3200000 United States of America 1.632711 1994-07-29 0.0 100.0 Barcelona 6.6\n",
      "FALSE 40000000 Japan 2.783872 1994-05-06 0.0 122.0 Being Human 5.0\n",
      "FALSE 0 United States of America 5.673735 1993-10-15 0.0 93.0 The Beverly Hillbillies 5.0\n",
      "FALSE 50000000 United States of America 11.787784 1994-05-24 119208989.0 104.0 Beverly Hills Cop III 5.5\n",
      "FALSE 0 United Kingdom 8.398845 1994-07-29 0.0 88.0 Black Beauty 6.6\n",
      "FALSE 0 United States of America 3.00282 1994-01-26 16668552.0 106.0 Blink 6.3\n",
      "FALSE 0 United States of America 13.155071 1994-07-01 30156002.0 121.0 Blown Away 6.0\n",
      "FALSE 0 United States of America 6.131056 1994-02-18 0.0 108.0 Blue Chips 5.7\n",
      "FALSE 0 United States of America 4.993829 1994-09-16 0.0 101.0 Blue Sky 6.1\n",
      "FALSE 13000000 United States of America 6.559693 1993-06-09 428868.0 87.0 Body Snatchers 5.8\n",
      "FALSE 0 United States of America 4.304224 1993-06-18 1796389.0 107.0 Boxing Helena 4.5\n",
      "FALSE 22000000 United States of America 6.115628 1993-09-14 17287898.0 121.0 A Bronx Tale 7.4\n",
      "FALSE 0 United States of America 1.679042 1994-01-07 3662459.0 80.0 Cabin Boy 4.9\n",
      "FALSE 13000000 United States of America 1.316741 1993-09-03 2570145.0 90.0 Calendar Girl 3.7\n",
      "FALSE 30000000 United States of America 8.698509 1993-11-10 36516012.0 144.0 Carlito's Way 7.7\n",
      "FALSE 0 United States of America 8.605703 1994-06-10 0.0 116.0 City Slickers II: The Legend of Curly's Gold 4.9\n",
      "FALSE 0 United States of America 2.724621 1994-05-06 7355425.0 107.0 Clean Slate 5.7\n",
      "FALSE 70000000 France 9.830853 1993-05-28 255000211.0 112.0 Cliffhanger 6.1\n",
      "FALSE 0 United States of America 10.722729 1993-07-23 0.0 88.0 Coneheads 4.8\n",
      "FALSE 40000000 United States of America 14.228963 1994-08-19 19726050.0 121.0 Color of Night 5.4\n",
      "FALSE 0 United States of America 7.042878 1994-04-15 0.0 93.0 Cops & Robbersons 5.0\n",
      "FALSE 0 United States of America 4.286279 1994-06-03 0.0 102.0 The Cowboy Way 5.1\n",
      "FALSE 0 United States of America 2.70097 1993-11-19 0.0 108.0 Dangerous Game 5.4\n",
      "FALSE 0 United States of America 13.696394 1993-05-07 63000000.0 110.0 Dave 6.3\n",
      "FALSE 6900000 United States of America 6.8652 1993-09-24 7993039.0 102.0 Dazed and Confused 7.4\n",
      "FALSE 57000000 United States of America 11.626116 1993-10-08 159055768.0 115.0 Demolition Man 6.4\n",
      "FALSE 0 United States of America 0.408159 1994-06-03 0.0 109.0 The Endless Summer 2 7.1\n",
      "FALSE 8000000 United States of America 2.970724 1994-05-13 0.0 96.0 Even Cowgirls Get the Blues 4.2\n",
      "FALSE 0 United States of America 3.555139 1993-10-29 0.0 91.0 Fatal Instinct 5.4\n",
      "FALSE 0 China 4.875827 1993-09-16 0.0 171.0 Farewell My Concubine 7.8\n"
     ]
    },
    {
     "name": "stdout",
     "output_type": "stream",
     "text": [
      "FALSE 0 United States of America 1.344876 1994-04-29 0.0 97.0 The Favor 3.3\n",
      "FALSE 0 United States of America 9.284624 1993-10-15 0.0 122.0 Fearless 6.8\n",
      "FALSE 0 United Kingdom 0.985441 1994-10-28 0.0 88.0 Fear of a Black Hat 5.8\n",
      "FALSE 0 United States of America 2.969003 1994-04-29 0.0 103.0 With Honors 6.1\n",
      "FALSE 0 United States of America 1.896869 1993-11-05 9488998.0 126.0 Flesh and Bone 6.2\n",
      "FALSE 0 Ireland 0.409427 1994-05-13 0.0 101.0 Widows' Peak 4.3\n",
      "FALSE 30000000 United States of America 8.468869 1993-10-01 11146270.0 94.0 For Love or Money 5.7\n",
      "FALSE 42000000 United States of America 9.678367 1993-06-30 270248367.0 154.0 The Firm 6.6\n",
      "FALSE 20000000 France 5.990572 1993-07-16 153698625.0 112.0 Free Willy 6.0\n",
      "FALSE 0 France 3.970215 1994-08-24 0.0 114.0 Fresh 7.6\n",
      "FALSE 44000000 United States of America 10.08937 1993-08-06 368875760.0 130.0 The Fugitive 7.2\n",
      "FALSE 35000000 United States of America 4.653462 1993-12-10 18635620.0 115.0 Geronimo: An American Legend 5.9\n",
      "FALSE 0 Japan 14.214403 1994-02-11 30.0 115.0 The Getaway 5.4\n",
      "FALSE 30000000 United States of America 2.410545 1994-06-17 0.0 109.0 Getting Even with Dad 4.5\n",
      "FALSE 0 United States of America 0.775898 1994-06-10 0.0 83.0 Go Fish 3.9\n",
      "FALSE 0 South Africa 5.22583 1994-07-14 0.0 94.0 A Good Man in Africa 5.2\n",
      "FALSE 0 United States of America 5.385108 1993-06-04 22886222.0 107.0 Guilty as Sin 5.6\n",
      "FALSE 18000000 United States of America 7.834351 1993-08-20 74189677.0 97.0 Hard Target 6.1\n",
      "FALSE 33000000 France 4.190541 1993-12-24 0.0 140.0 Heaven & Earth 6.4\n",
      "FALSE 25000000 United States of America 13.482371 1993-05-21 133752825.0 86.0 Hot Shots! Part Deux 6.2\n",
      "FALSE 0 United States of America 2.138959 1995-12-08 0.0 95.0 Live Nude Girls 4.7\n",
      "FALSE 0 United Kingdom 5.331753 1995-05-12 0.0 99.0 The Englishman Who Went Up a Hill But Came Down a Mountain 6.1\n",
      "FALSE 25000000 Denmark 10.687795 1993-10-19 0.0 140.0 The House of the Spirits 6.7\n",
      "FALSE 0 none 0.996047 1994-01-01 0.0 100.0 House Party 3 4.6\n",
      "FALSE 30000000 Germany 7.550545 1994-03-11 0.0 111.0 The Hudsucker Proxy 7.1\n",
      "FALSE 40000000 United States of America 1.742974 1994-02-04 0.0 115.0 I'll Do Anything 5.7\n",
      "FALSE 0 United States of America 6.071466 1994-08-12 28881266.0 91.0 In the Army Now 4.7\n",
      "FALSE 40000000 United States of America 12.637158 1993-07-08 176997168.0 128.0 In the Line of Fire 6.8\n",
      "FALSE 13000000 United Kingdom 7.405895 1993-12-12 65796862.0 133.0 In the Name of the Father 7.6\n",
      "FALSE 0 United States of America 0.613335 1994-04-22 8880705.0 110.0 The Inkwell 3.9\n",
      "FALSE 0 United States of America 14.820883 1993-06-09 0.0 118.0 What's Love Got to Do with It 6.9\n",
      "FALSE 30000000 United States of America 4.563989 1994-03-30 0.0 112.0 Jimmy Hollywood 4.6\n",
      "FALSE 0 Japan 5.538671 1993-10-15 12136938.0 110.0 Judgment Night 6.4\n",
      "FALSE 63000000 United States of America 8.863776 1993-06-11 920100000.0 127.0 Jurassic Park 7.6\n",
      "FALSE 9000000 United States of America 8.4337 1993-09-01 2395231.0 117.0 Kalifornia 6.5\n",
      "FALSE 1500000 France 4.948569 1993-10-01 418961.0 96.0 Killing Zoe 6.1\n",
      "FALSE 0 United States of America 4.375347 1993-08-20 0.0 103.0 King of the Hill 6.4\n",
      "FALSE 0 United States of America 3.645342 1994-07-22 0.0 94.0 Lassie 6.1\n",
      "FALSE 85000000 United States of America 9.434006 1993-06-18 137298489.0 130.0 Last Action Hero 6.1\n",
      "FALSE 0 United States of America 6.446229 1993-06-04 0.0 91.0 Life With Mikey 5.1\n",
      "FALSE 0 Australia 2.913584 1994-03-11 0.0 98.0 Lightning Jack 5.7\n",
      "FALSE 0 United States of America 6.516976 1993-09-09 1499795.0 101.0 M. Butterfly 6.6\n",
      "FALSE 22000000 France 5.43085 1993-05-27 0.0 111.0 Made in America 5.3\n",
      "FALSE 0 United States of America 9.861672 1993-09-29 46405336.0 107.0 Malice 5.9\n",
      "FALSE 0 United States of America 5.997712 1993-08-25 24760338.0 114.0 The Man without a Face 6.2\n",
      "FALSE 13500000 United States of America 8.939404 1993-08-18 11285588.0 104.0 Manhattan Murder Mystery 7.1\n",
      "FALSE 3500000 United States of America 5.260924 1993-05-26 27900000.0 97.0 Menace II Society 7.2\n",
      "FALSE 55000000 United States of America 13.106291 1996-03-15 121969216.0 133.0 Executive Decision 5.8\n",
      "FALSE 0 Japan 8.932494 1976-05-15 0.0 105.0 In the Realm of the Senses 6.5\n",
      "FALSE 0 United States of America 0.534606 1994-09-09 0.0 91.0 What Happened Was... 7.0\n",
      "FALSE 8000000 United Kingdom 8.62724 1993-05-07 0.0 111.0 Much Ado About Nothing 7.2\n",
      "FALSE 0 United States of America 6.579753 1993-10-08 0.0 114.0 Mr. Jones 5.9\n",
      "FALSE 0 United States of America 13.011091 1993-10-15 0.0 98.0 Mr. Wonderful 5.5\n",
      "FALSE 25000000 United States of America 11.16553 1993-11-24 441286195.0 125.0 Mrs. Doubtfire 7.0\n",
      "FALSE 0 United Kingdom 8.665198 1993-09-14 0.0 131.0 Naked 7.5\n",
      "FALSE 12000000 United States of America 9.9697 1994-07-18 15826984.0 107.0 The Next Karate Kid 4.8\n",
      "FALSE 0 United States of America 0.596207 1994-09-16 0.0 112.0 The New Age 4.8\n",
      "FALSE 20000000 United States of America 9.715187 1994-04-29 15340000.0 118.0 No Escape 6.1\n"
     ]
    }
   ],
   "source": [
    "import pandas as pd\n",
    "import ast\n",
    "csv_file = pd.read_csv(\"films.csv\")\n",
    "\n",
    "# print(csv_file.head(10))\n",
    "\n",
    "# for index, adult, budget, genre, popularity, year,  in csv_file.head(5).iterrows():\n",
    "#     print(budget)\n",
    "\n",
    "for index, data  in csv_file.head(500).iterrows():\n",
    "    # print(type(row[1]))\n",
    "    adult    = data[0]\n",
    "    budget   = data[1]\n",
    "    popularity = data[3]\n",
    "    country =  'none' if len(ast.literal_eval(data[5])) == 0 else ast.literal_eval(data[5])[0][\"name\"]\n",
    "    date    = data[6]\n",
    "    revenue = data[7]\n",
    "    runtime = data[8]\n",
    "    title   = data[10] \n",
    "    votes   = data[11]\n",
    "    \n",
    "    print(adult, budget, country, popularity, date, revenue, runtime, title, votes)"
   ]
  },
  {
   "cell_type": "code",
   "execution_count": 3,
   "metadata": {},
   "outputs": [],
   "source": [
    "import pymysql.cursors"
   ]
  },
  {
   "cell_type": "code",
   "execution_count": 4,
   "metadata": {},
   "outputs": [],
   "source": [
    "connection = pymysql.connect(\n",
    "                            host='localhost',\n",
    "                             user='root',\n",
    "                             password='',\n",
    "                             db='db',\n",
    "                             charset='utf8mb4',\n",
    "                             cursorclass=pymysql.cursors.DictCursor\n",
    "                            )"
   ]
  },
  {
   "cell_type": "code",
   "execution_count": 9,
   "metadata": {},
   "outputs": [
    {
     "name": "stderr",
     "output_type": "stream",
     "text": [
      "C:\\Users\\INYANG\\Anaconda3\\lib\\site-packages\\pymysql\\cursors.py:329: Warning: (1366, \"Incorrect string value: '\\\\xE2\\\\x85\\\\x93: T...' for column 'title' at row 1\")\n",
      "  self._do_get_result()\n"
     ]
    },
    {
     "name": "stdout",
     "output_type": "stream",
     "text": [
      "ERROR ON LINE...SkIPPING (LAST TITLE ==> Peanuts – Die Bank zahlt alles)\n",
      "ERROR ON LINE...SkIPPING (LAST TITLE ==> Happy Weekend)\n",
      "ERROR ON LINE...SkIPPING (LAST TITLE ==> Und keiner weint mir nach)\n"
     ]
    },
    {
     "name": "stderr",
     "output_type": "stream",
     "text": [
      "C:\\Users\\INYANG\\Anaconda3\\lib\\site-packages\\pymysql\\cursors.py:329: Warning: (1265, \"Data truncated for column 'release_date' at row 1\")\n",
      "  self._do_get_result()\n"
     ]
    },
    {
     "name": "stdout",
     "output_type": "stream",
     "text": [
      "ERROR ON LINE...SkIPPING (LAST TITLE ==> Diebinnen)\n",
      "ERROR ON LINE...SkIPPING (LAST TITLE ==> Baton Rouge)\n",
      "ERROR ON LINE...SkIPPING (LAST TITLE ==> The Cabinet of Dr. Ramirez)\n",
      "ERROR ON LINE...SkIPPING (LAST TITLE ==> Adanggaman)\n",
      "ERROR ON LINE...SkIPPING (LAST TITLE ==> Black and White in Color)\n"
     ]
    },
    {
     "name": "stderr",
     "output_type": "stream",
     "text": [
      "C:\\Users\\INYANG\\Anaconda3\\lib\\site-packages\\pymysql\\cursors.py:329: Warning: (1366, \"Incorrect string value: '\\\\xC5\\\\x82' for column 'title' at row 1\")\n",
      "  self._do_get_result()\n"
     ]
    },
    {
     "name": "stdout",
     "output_type": "stream",
     "text": [
      "ERROR ON LINE...SkIPPING (LAST TITLE ==> This So-Called Disaster: Sam Shepard Directs \"The Late Henry Moss\")\n"
     ]
    },
    {
     "name": "stderr",
     "output_type": "stream",
     "text": [
      "C:\\Users\\INYANG\\Anaconda3\\lib\\site-packages\\pymysql\\cursors.py:329: Warning: (1366, \"Incorrect string value: '\\\\xC5\\\\x9B\\\\xC4\\\\x87, ...' for column 'title' at row 1\")\n",
      "  self._do_get_result()\n",
      "C:\\Users\\INYANG\\Anaconda3\\lib\\site-packages\\pymysql\\cursors.py:329: Warning: (1366, \"Incorrect string value: '\\\\xCE\\\\x94Z' for column 'title' at row 1\")\n",
      "  self._do_get_result()\n",
      "C:\\Users\\INYANG\\Anaconda3\\lib\\site-packages\\pymysql\\cursors.py:329: Warning: (1366, \"Incorrect string value: '\\\\xC5\\\\xBCyciu...' for column 'title' at row 1\")\n",
      "  self._do_get_result()\n"
     ]
    },
    {
     "name": "stdout",
     "output_type": "stream",
     "text": [
      "ERROR ON LINE...SkIPPING (LAST TITLE ==> Ystäväni Henry)\n",
      "ERROR ON LINE...SkIPPING (LAST TITLE ==> Pekka ja Pätkä lumimiehen jäljillä)\n",
      "ERROR ON LINE...SkIPPING (LAST TITLE ==> Człowiek z M-3)\n"
     ]
    },
    {
     "name": "stderr",
     "output_type": "stream",
     "text": [
      "C:\\Users\\INYANG\\Anaconda3\\lib\\site-packages\\pymysql\\cursors.py:329: Warning: (1366, \"Incorrect string value: '\\\\xC5\\\\x9Bcie ...' for column 'title' at row 1\")\n",
      "  self._do_get_result()\n",
      "C:\\Users\\INYANG\\Anaconda3\\lib\\site-packages\\pymysql\\cursors.py:329: Warning: (1366, \"Incorrect string value: '\\\\xC5\\\\x82 w K...' for column 'title' at row 1\")\n",
      "  self._do_get_result()\n"
     ]
    },
    {
     "name": "stdout",
     "output_type": "stream",
     "text": [
      "ERROR ON LINE...SkIPPING (LAST TITLE ==> Show)\n"
     ]
    },
    {
     "name": "stderr",
     "output_type": "stream",
     "text": [
      "C:\\Users\\INYANG\\Anaconda3\\lib\\site-packages\\pymysql\\cursors.py:329: Warning: (1366, \"Incorrect string value: '\\\\xC4\\\\x85 por...' for column 'title' at row 1\")\n",
      "  self._do_get_result()\n",
      "C:\\Users\\INYANG\\Anaconda3\\lib\\site-packages\\pymysql\\cursors.py:329: Warning: (1264, \"Out of range value for column 'revenue' at row 1\")\n",
      "  self._do_get_result()\n"
     ]
    },
    {
     "name": "stdout",
     "output_type": "stream",
     "text": [
      "ERROR ON LINE...SkIPPING (LAST TITLE ==> Havukka-Ahon Ajattelija)\n",
      "ERROR ON LINE...SkIPPING (LAST TITLE ==> Lars i porten)\n",
      "ERROR ON LINE...SkIPPING (LAST TITLE ==> Esa ja Vesa – auringonlaskun ratsastajat)\n",
      "ERROR ON LINE...SkIPPING (LAST TITLE ==> El próximo Oriente)\n",
      "ERROR ON LINE...SkIPPING (LAST TITLE ==> Kulkuri ja joutsen)\n"
     ]
    },
    {
     "name": "stderr",
     "output_type": "stream",
     "text": [
      "C:\\Users\\INYANG\\Anaconda3\\lib\\site-packages\\pymysql\\cursors.py:329: Warning: (1366, \"Incorrect string value: '\\\\xC4\\\\x85cy z...' for column 'title' at row 1\")\n",
      "  self._do_get_result()\n"
     ]
    },
    {
     "name": "stdout",
     "output_type": "stream",
     "text": [
      "ERROR ON LINE...SkIPPING (LAST TITLE ==> Eila)\n"
     ]
    },
    {
     "name": "stderr",
     "output_type": "stream",
     "text": [
      "C:\\Users\\INYANG\\Anaconda3\\lib\\site-packages\\pymysql\\cursors.py:329: Warning: (1366, \"Incorrect string value: '\\\\xC4\\\\xB1n\\\\xC4\\\\xB1f...' for column 'title' at row 1\")\n",
      "  self._do_get_result()\n"
     ]
    },
    {
     "name": "stdout",
     "output_type": "stream",
     "text": [
      "ERROR ON LINE...SkIPPING (LAST TITLE ==> Vääpeli Körmy ja vetenalaiset vehkeet)\n",
      "ERROR ON LINE...SkIPPING (LAST TITLE ==> Nachbarinnen)\n",
      "ERROR ON LINE...SkIPPING (LAST TITLE ==> Sokkotanssi)\n",
      "ERROR ON LINE...SkIPPING (LAST TITLE ==> Pajęczarki)\n",
      "ERROR ON LINE...SkIPPING (LAST TITLE ==> Pölynimurikauppiaat)\n"
     ]
    },
    {
     "name": "stderr",
     "output_type": "stream",
     "text": [
      "C:\\Users\\INYANG\\Anaconda3\\lib\\site-packages\\pymysql\\cursors.py:329: Warning: (1366, \"Incorrect string value: '\\\\xCE\\\\xBC\\\\xCE\\\\xB9\\\\xCE\\\\xB1...' for column 'title' at row 1\")\n",
      "  self._do_get_result()\n"
     ]
    },
    {
     "name": "stdout",
     "output_type": "stream",
     "text": [
      "ERROR ON LINE...SkIPPING (LAST TITLE ==> Kovat Miehet)\n",
      "ERROR ON LINE...SkIPPING (LAST TITLE ==> L'outremangeur)\n",
      "ERROR ON LINE...SkIPPING (LAST TITLE ==> Nuoruuteni savotat)\n",
      "ERROR ON LINE...SkIPPING (LAST TITLE ==> Operación Cannabis)\n",
      "ERROR ON LINE...SkIPPING (LAST TITLE ==> La Californie)\n",
      "ERROR ON LINE...SkIPPING (LAST TITLE ==> nan)\n",
      "ERROR ON LINE...SkIPPING (LAST TITLE ==> nan)\n",
      "ERROR ON LINE...SkIPPING (LAST TITLE ==> Tarda estate)\n",
      "ERROR ON LINE...SkIPPING (LAST TITLE ==> Aurinkotuuli)\n"
     ]
    },
    {
     "name": "stderr",
     "output_type": "stream",
     "text": [
      "C:\\Users\\INYANG\\Anaconda3\\lib\\site-packages\\pymysql\\cursors.py:329: Warning: (1366, \"Incorrect string value: '\\\\xC4\\\\x87: Th...' for column 'title' at row 1\")\n",
      "  self._do_get_result()\n"
     ]
    },
    {
     "name": "stdout",
     "output_type": "stream",
     "text": [
      "ERROR ON LINE...SkIPPING (LAST TITLE ==> Désiré)\n",
      "ERROR ON LINE...SkIPPING (LAST TITLE ==> El Big Bang de Tunguska)\n",
      "ERROR ON LINE...SkIPPING (LAST TITLE ==> Emmauksen tiellä)\n",
      "ERROR ON LINE...SkIPPING (LAST TITLE ==> Prinsessa Ruusunen)\n"
     ]
    },
    {
     "name": "stderr",
     "output_type": "stream",
     "text": [
      "C:\\Users\\INYANG\\Anaconda3\\lib\\site-packages\\pymysql\\cursors.py:329: Warning: (1366, \"Incorrect string value: '\\\\xC5\\\\x9B\\\\xC4\\\\x87' for column 'title' at row 1\")\n",
      "  self._do_get_result()\n"
     ]
    },
    {
     "name": "stdout",
     "output_type": "stream",
     "text": [
      "ERROR ON LINE...SkIPPING (LAST TITLE ==> Donos de Portugal)\n",
      "ERROR ON LINE...SkIPPING (LAST TITLE ==> Sēņotāji)\n",
      "ERROR ON LINE...SkIPPING (LAST TITLE ==> Libre échange)\n",
      "ERROR ON LINE...SkIPPING (LAST TITLE ==> The Diamond Fleece)\n",
      "ERROR ON LINE...SkIPPING (LAST TITLE ==> هیچ کجا هیچ کس)\n",
      "ERROR ON LINE...SkIPPING (LAST TITLE ==> Serrallonga)\n"
     ]
    },
    {
     "name": "stderr",
     "output_type": "stream",
     "text": [
      "C:\\Users\\INYANG\\Anaconda3\\lib\\site-packages\\pymysql\\cursors.py:329: Warning: (1366, \"Incorrect string value: '\\\\xCE\\\\xA4\\\\xCE\\\\xBF \\\\xCE...' for column 'title' at row 1\")\n",
      "  self._do_get_result()\n",
      "C:\\Users\\INYANG\\Anaconda3\\lib\\site-packages\\pymysql\\cursors.py:329: Warning: (1366, \"Incorrect string value: '\\\\xCE\\\\x9B\\\\xCE\\\\xB1\\\\xCF\\\\x84...' for column 'title' at row 1\")\n",
      "  self._do_get_result()\n",
      "C:\\Users\\INYANG\\Anaconda3\\lib\\site-packages\\pymysql\\cursors.py:329: Warning: (1366, \"Incorrect string value: '\\\\xE2\\\\x98\\\\x86Gi\\\\xE2...' for column 'title' at row 1\")\n",
      "  self._do_get_result()\n"
     ]
    },
    {
     "name": "stdout",
     "output_type": "stream",
     "text": [
      "ERROR ON LINE...SkIPPING (LAST TITLE ==> Tentação)\n",
      "ERROR ON LINE...SkIPPING (LAST TITLE ==> Ultraman)\n",
      "ERROR ON LINE...SkIPPING (LAST TITLE ==> Schwestern)\n",
      "ERROR ON LINE...SkIPPING (LAST TITLE ==> Ein Schnitzel für drei)\n",
      "ERROR ON LINE...SkIPPING (LAST TITLE ==> Die Fischerin)\n",
      "ERROR ON LINE...SkIPPING (LAST TITLE ==> El chocolate del loro)\n",
      "ERROR ON LINE...SkIPPING (LAST TITLE ==> Maata meren alla)\n",
      "ERROR ON LINE...SkIPPING (LAST TITLE ==> Hur som helst är han jävligt död)\n",
      "ERROR ON LINE...SkIPPING (LAST TITLE ==> Drei Stunden)\n",
      "ERROR ON LINE...SkIPPING (LAST TITLE ==> Bolidi sull'asfalto a tutta birra!)\n",
      "ERROR ON LINE...SkIPPING (LAST TITLE ==> Il figlio dello sceicco)\n",
      "ERROR ON LINE...SkIPPING (LAST TITLE ==> Agenzia Riccardo Finzi... praticamente detective)\n",
      "ERROR ON LINE...SkIPPING (LAST TITLE ==> Delitto a Porta Romana)\n",
      "ERROR ON LINE...SkIPPING (LAST TITLE ==> Presidentintekijät)\n",
      "ERROR ON LINE...SkIPPING (LAST TITLE ==> Rakkaudella, Maire)\n",
      "ERROR ON LINE...SkIPPING (LAST TITLE ==> Se tutto va bene siamo rovinati)\n",
      "ERROR ON LINE...SkIPPING (LAST TITLE ==> Maledetto il giorno che t'ho incontrato)\n",
      "ERROR ON LINE...SkIPPING (LAST TITLE ==> Pancho, el perro millonario)\n",
      "ERROR ON LINE...SkIPPING (LAST TITLE ==> Die zwölf Geschworenen)\n",
      "ERROR ON LINE...SkIPPING (LAST TITLE ==> Another Day, Another Time: Celebrating the Music of \"Inside Llewyn Davis\")\n",
      "ERROR ON LINE...SkIPPING (LAST TITLE ==> Il mundial dimenticato)\n"
     ]
    },
    {
     "name": "stderr",
     "output_type": "stream",
     "text": [
      "C:\\Users\\INYANG\\Anaconda3\\lib\\site-packages\\pymysql\\cursors.py:329: Warning: (1366, \"Incorrect string value: '\\\\xE2\\\\x81\\\\xB4 Ap...' for column 'title' at row 1\")\n",
      "  self._do_get_result()\n"
     ]
    },
    {
     "name": "stdout",
     "output_type": "stream",
     "text": [
      "ERROR ON LINE...SkIPPING (LAST TITLE ==> Londra chiama Polo Nord)\n",
      "ERROR ON LINE...SkIPPING (LAST TITLE ==> Burn Paris Burn)\n",
      "ERROR ON LINE...SkIPPING (LAST TITLE ==> Kolmistaan)\n",
      "ERROR ON LINE...SkIPPING (LAST TITLE ==> Quicker Than the Eye)\n",
      "ERROR ON LINE...SkIPPING (LAST TITLE ==> Un milliard dans un billard)\n"
     ]
    },
    {
     "name": "stderr",
     "output_type": "stream",
     "text": [
      "C:\\Users\\INYANG\\Anaconda3\\lib\\site-packages\\pymysql\\cursors.py:329: Warning: (1366, \"Incorrect string value: '\\\\xC5\\\\x9Eaban...' for column 'title' at row 1\")\n",
      "  self._do_get_result()\n"
     ]
    },
    {
     "name": "stdout",
     "output_type": "stream",
     "text": [
      "ERROR ON LINE...SkIPPING (LAST TITLE ==> France société anonyme)\n",
      "ERROR ON LINE...SkIPPING (LAST TITLE ==> Des roses en hiver)\n",
      "ERROR ON LINE...SkIPPING (LAST TITLE ==> I giorni contati)\n",
      "ERROR ON LINE...SkIPPING (LAST TITLE ==> Die Weihnachtsklempner)\n",
      "ERROR ON LINE...SkIPPING (LAST TITLE ==> Benjamin Blümchen - Seine schönsten Abenteuer)\n",
      "ERROR ON LINE...SkIPPING (LAST TITLE ==> Les mauvaises têtes)\n",
      "ERROR ON LINE...SkIPPING (LAST TITLE ==> De feu et de glace)\n",
      "ERROR ON LINE...SkIPPING (LAST TITLE ==> Monsoon Baby)\n",
      "ERROR ON LINE...SkIPPING (LAST TITLE ==> Hiver rouge)\n",
      "ERROR ON LINE...SkIPPING (LAST TITLE ==> Bleu catacombes)\n",
      "ERROR ON LINE...SkIPPING (LAST TITLE ==> Bob le magnifique)\n",
      "ERROR ON LINE...SkIPPING (LAST TITLE ==> Pas d'inquiétude)\n",
      "ERROR ON LINE...SkIPPING (LAST TITLE ==> Einstein)\n",
      "ERROR ON LINE...SkIPPING (LAST TITLE ==> Mörderische Erpressung)\n",
      "ERROR ON LINE...SkIPPING (LAST TITLE ==> nan)\n",
      "ERROR ON LINE...SkIPPING (LAST TITLE ==> nan)\n",
      "ERROR ON LINE...SkIPPING (LAST TITLE ==> Il giocattolo)\n",
      "ERROR ON LINE...SkIPPING (LAST TITLE ==> Il Gaucho)\n",
      "ERROR ON LINE...SkIPPING (LAST TITLE ==> L'Impiegato)\n",
      "ERROR ON LINE...SkIPPING (LAST TITLE ==> Chanthaly)\n",
      "ERROR ON LINE...SkIPPING (LAST TITLE ==> Il vigile)\n",
      "ERROR ON LINE...SkIPPING (LAST TITLE ==> Il conte Max)\n",
      "ERROR ON LINE...SkIPPING (LAST TITLE ==> Sottozero)\n",
      "ERROR ON LINE...SkIPPING (LAST TITLE ==> Il mantenuto)\n",
      "ERROR ON LINE...SkIPPING (LAST TITLE ==> Parole sante)\n",
      "ERROR ON LINE...SkIPPING (LAST TITLE ==> L'erba proibita)\n",
      "ERROR ON LINE...SkIPPING (LAST TITLE ==> Gräfin Mariza)\n",
      "ERROR ON LINE...SkIPPING (LAST TITLE ==> Rey gitano)\n",
      "ERROR ON LINE...SkIPPING (LAST TITLE ==> Sistemo l'America e torno)\n",
      "ERROR ON LINE...SkIPPING (LAST TITLE ==> Niente paura)\n",
      "ERROR ON LINE...SkIPPING (LAST TITLE ==> Venti anni)\n",
      "ERROR ON LINE...SkIPPING (LAST TITLE ==> All'ultima spiaggia)\n",
      "ERROR ON LINE...SkIPPING (LAST TITLE ==> Ammutta muddica al cinema)\n",
      "ERROR ON LINE...SkIPPING (LAST TITLE ==> I corpi estranei)\n",
      "ERROR ON LINE...SkIPPING (LAST TITLE ==> Due partite)\n",
      "ERROR ON LINE...SkIPPING (LAST TITLE ==> Alza la testa)\n",
      "ERROR ON LINE...SkIPPING (LAST TITLE ==> The Death of \"Superman Lives\": What Happened?)\n",
      "ERROR ON LINE...SkIPPING (LAST TITLE ==> Filomena Marturano)\n",
      "ERROR ON LINE...SkIPPING (LAST TITLE ==> Senza famiglia, nullatenenti cercano affetto)\n",
      "ERROR ON LINE...SkIPPING (LAST TITLE ==> Il terzo tempo)\n",
      "ERROR ON LINE...SkIPPING (LAST TITLE ==> Unter Umständen verliebt)\n",
      "ERROR ON LINE...SkIPPING (LAST TITLE ==> Götz von Berlichingen)\n",
      "ERROR ON LINE...SkIPPING (LAST TITLE ==> Questi fantasmi)\n",
      "ERROR ON LINE...SkIPPING (LAST TITLE ==> Sogno di una notte di mezza sbornia)\n",
      "ERROR ON LINE...SkIPPING (LAST TITLE ==> Uomo e galantuomo)\n"
     ]
    },
    {
     "name": "stderr",
     "output_type": "stream",
     "text": [
      "C:\\Users\\INYANG\\Anaconda3\\lib\\site-packages\\pymysql\\cursors.py:329: Warning: (1366, \"Incorrect string value: '\\\\xE2\\\\x80\\\\x8E\\\\xE2\\\\x80\\\\x8E' for column 'title' at row 1\")\n",
      "  self._do_get_result()\n"
     ]
    },
    {
     "name": "stdout",
     "output_type": "stream",
     "text": [
      "ERROR ON LINE...SkIPPING (LAST TITLE ==> Los tontos y los estúpidos)\n"
     ]
    },
    {
     "name": "stderr",
     "output_type": "stream",
     "text": [
      "C:\\Users\\INYANG\\Anaconda3\\lib\\site-packages\\pymysql\\cursors.py:329: Warning: (1366, \"Incorrect string value: '\\\\xE2\\\\x99\\\\xA1DK' for column 'title' at row 1\")\n",
      "  self._do_get_result()\n"
     ]
    },
    {
     "name": "stdout",
     "output_type": "stream",
     "text": [
      "ERROR ON LINE...SkIPPING (LAST TITLE ==> L'odore della notte)\n",
      "ERROR ON LINE...SkIPPING (LAST TITLE ==> Scipione detto anche l'africano)\n",
      "ERROR ON LINE...SkIPPING (LAST TITLE ==> I bambini sanno)\n"
     ]
    },
    {
     "name": "stderr",
     "output_type": "stream",
     "text": [
      "C:\\Users\\INYANG\\Anaconda3\\lib\\site-packages\\pymysql\\cursors.py:329: Warning: (1366, \"Incorrect string value: '\\\\xC5\\\\xAF' for column 'title' at row 1\")\n",
      "  self._do_get_result()\n",
      "C:\\Users\\INYANG\\Anaconda3\\lib\\site-packages\\pymysql\\cursors.py:329: Warning: (1366, \"Incorrect string value: '\\\\xC4\\\\xB1' for column 'title' at row 1\")\n",
      "  self._do_get_result()\n"
     ]
    },
    {
     "name": "stdout",
     "output_type": "stream",
     "text": [
      "ERROR ON LINE...SkIPPING (LAST TITLE ==> Seasick)\n",
      "ERROR ON LINE...SkIPPING (LAST TITLE ==> Cinema: A Public Affair)\n",
      "ERROR ON LINE...SkIPPING (LAST TITLE ==> Zróbmy sobie wnuka)\n",
      "ERROR ON LINE...SkIPPING (LAST TITLE ==> I cavalieri che fecero l'impresa)\n",
      "ERROR ON LINE...SkIPPING (LAST TITLE ==> Padri e figli)\n",
      "ERROR ON LINE...SkIPPING (LAST TITLE ==> Après la guerre)\n",
      "ERROR ON LINE...SkIPPING (LAST TITLE ==> 713-й просит посадку)\n"
     ]
    },
    {
     "name": "stderr",
     "output_type": "stream",
     "text": [
      "C:\\Users\\INYANG\\Anaconda3\\lib\\site-packages\\pymysql\\cursors.py:329: Warning: (1366, \"Incorrect string value: '\\\\xD0\\\\x9F\\\\xD1\\\\x80\\\\xD0\\\\xB8...' for column 'title' at row 1\")\n",
      "  self._do_get_result()\n",
      "C:\\Users\\INYANG\\Anaconda3\\lib\\site-packages\\pymysql\\cursors.py:329: Warning: (1366, \"Incorrect string value: '\\\\xC4\\\\xB0tira...' for column 'title' at row 1\")\n",
      "  self._do_get_result()\n",
      "C:\\Users\\INYANG\\Anaconda3\\lib\\site-packages\\pymysql\\cursors.py:329: Warning: (1366, \"Incorrect string value: '\\\\xC4\\\\xB0\\\\xC5\\\\x9Fle...' for column 'title' at row 1\")\n",
      "  self._do_get_result()\n"
     ]
    },
    {
     "name": "stdout",
     "output_type": "stream",
     "text": [
      "ERROR ON LINE...SkIPPING (LAST TITLE ==> Pápa Piquillo)\n"
     ]
    },
    {
     "name": "stderr",
     "output_type": "stream",
     "text": [
      "C:\\Users\\INYANG\\Anaconda3\\lib\\site-packages\\pymysql\\cursors.py:329: Warning: (1366, \"Incorrect string value: '\\\\xC4\\\\xB0vedi...' for column 'title' at row 1\")\n",
      "  self._do_get_result()\n",
      "C:\\Users\\INYANG\\Anaconda3\\lib\\site-packages\\pymysql\\cursors.py:329: Warning: (1366, \"Incorrect string value: '\\\\xC4\\\\xB1nda' for column 'title' at row 1\")\n",
      "  self._do_get_result()\n"
     ]
    },
    {
     "name": "stdout",
     "output_type": "stream",
     "text": [
      "ERROR ON LINE...SkIPPING (LAST TITLE ==> Wir tun es für Geld)\n",
      "ERROR ON LINE...SkIPPING (LAST TITLE ==> Mortacci)\n",
      "ERROR ON LINE...SkIPPING (LAST TITLE ==> Nunca en horas de clase)\n",
      "ERROR ON LINE...SkIPPING (LAST TITLE ==> Uuno Turhapuro - pisnismies)\n",
      "ERROR ON LINE...SkIPPING (LAST TITLE ==> Soap Opera)\n",
      "ERROR ON LINE...SkIPPING (LAST TITLE ==> H3 - Halloween Horror Hostel)\n",
      "ERROR ON LINE...SkIPPING (LAST TITLE ==> nan)\n",
      "ERROR ON LINE...SkIPPING (LAST TITLE ==> nan)\n",
      "ERROR ON LINE...SkIPPING (LAST TITLE ==> Vallen)\n",
      "ERROR ON LINE...SkIPPING (LAST TITLE ==> Bingo)\n",
      "ERROR ON LINE...SkIPPING (LAST TITLE ==> Halam Geldi)\n"
     ]
    },
    {
     "name": "stderr",
     "output_type": "stream",
     "text": [
      "C:\\Users\\INYANG\\Anaconda3\\lib\\site-packages\\pymysql\\cursors.py:329: Warning: (1366, \"Incorrect string value: '\\\\xC5\\\\x9Fk K\\\\xC4...' for column 'title' at row 1\")\n",
      "  self._do_get_result()\n",
      "C:\\Users\\INYANG\\Anaconda3\\lib\\site-packages\\pymysql\\cursors.py:329: Warning: (1366, \"Incorrect string value: '\\\\xC5\\\\x82\\\\xC4\\\\x99ki...' for column 'title' at row 1\")\n",
      "  self._do_get_result()\n",
      "C:\\Users\\INYANG\\Anaconda3\\lib\\site-packages\\pymysql\\cursors.py:329: Warning: (1366, \"Incorrect string value: '\\\\xC5\\\\x84 dob...' for column 'title' at row 1\")\n",
      "  self._do_get_result()\n"
     ]
    },
    {
     "name": "stdout",
     "output_type": "stream",
     "text": [
      "ERROR ON LINE...SkIPPING (LAST TITLE ==> Silvio Forever)\n"
     ]
    },
    {
     "name": "stderr",
     "output_type": "stream",
     "text": [
      "C:\\Users\\INYANG\\Anaconda3\\lib\\site-packages\\pymysql\\cursors.py:329: Warning: (1366, \"Incorrect string value: '\\\\xE2\\\\x84\\\\x968' for column 'title' at row 1\")\n",
      "  self._do_get_result()\n"
     ]
    },
    {
     "name": "stdout",
     "output_type": "stream",
     "text": [
      "ERROR ON LINE...SkIPPING (LAST TITLE ==> Tempo instabile con probabili schiarite)\n",
      "ERROR ON LINE...SkIPPING (LAST TITLE ==> Die Blindgänger)\n",
      "ERROR ON LINE...SkIPPING (LAST TITLE ==> Tutte le donne della mia vita)\n",
      "ERROR ON LINE...SkIPPING (LAST TITLE ==> Chicago Boys)\n",
      "ERROR ON LINE...SkIPPING (LAST TITLE ==> Vous êtes très jolie, mademoiselle)\n"
     ]
    },
    {
     "name": "stderr",
     "output_type": "stream",
     "text": [
      "C:\\Users\\INYANG\\Anaconda3\\lib\\site-packages\\pymysql\\cursors.py:329: Warning: (1366, \"Incorrect string value: '\\\\xC4\\\\xB1n\\\\xC4\\\\xB1 ...' for column 'title' at row 1\")\n",
      "  self._do_get_result()\n"
     ]
    },
    {
     "name": "stdout",
     "output_type": "stream",
     "text": [
      "ERROR ON LINE...SkIPPING (LAST TITLE ==> Hokuspokus)\n",
      "ERROR ON LINE...SkIPPING (LAST TITLE ==> Arvon veli)\n",
      "ERROR ON LINE...SkIPPING (LAST TITLE ==> Riuscirà l'avvocato Franco Benenato a sconfiggere il suo acerrimo nemico il pretore Ciccio De Ingras?)\n",
      "ERROR ON LINE...SkIPPING (LAST TITLE ==> El gafe)\n",
      "ERROR ON LINE...SkIPPING (LAST TITLE ==> Man van staal)\n"
     ]
    },
    {
     "name": "stderr",
     "output_type": "stream",
     "text": [
      "C:\\Users\\INYANG\\Anaconda3\\lib\\site-packages\\pymysql\\cursors.py:329: Warning: (1366, \"Incorrect string value: '\\\\xE8\\\\xB2\\\\x93\\\\xE7\\\\x8B\\\\x97...' for column 'title' at row 1\")\n",
      "  self._do_get_result()\n"
     ]
    },
    {
     "name": "stdout",
     "output_type": "stream",
     "text": [
      "ERROR ON LINE...SkIPPING (LAST TITLE ==> Mémoire de glace)\n",
      "ERROR ON LINE...SkIPPING (LAST TITLE ==> Oh Jonathan – oh Jonathan!)\n"
     ]
    },
    {
     "name": "stderr",
     "output_type": "stream",
     "text": [
      "C:\\Users\\INYANG\\Anaconda3\\lib\\site-packages\\pymysql\\cursors.py:329: Warning: (1366, \"Incorrect string value: '\\\\xC4\\\\x9B Jas...' for column 'title' at row 1\")\n",
      "  self._do_get_result()\n"
     ]
    },
    {
     "name": "stdout",
     "output_type": "stream",
     "text": [
      "ERROR ON LINE...SkIPPING (LAST TITLE ==> Les amants du bagne)\n",
      "ERROR ON LINE...SkIPPING (LAST TITLE ==> Drei weiße Birken)\n",
      "ERROR ON LINE...SkIPPING (LAST TITLE ==> Κλέφτες)\n",
      "ERROR ON LINE...SkIPPING (LAST TITLE ==> Der Kronzeuge)\n",
      "ERROR ON LINE...SkIPPING (LAST TITLE ==> Normaal: Ik Kom Altied Weer Terug)\n",
      "ERROR ON LINE...SkIPPING (LAST TITLE ==> The Fearless Triplets)\n",
      "ERROR ON LINE...SkIPPING (LAST TITLE ==> Die Frau, die im Wald verschwand)\n",
      "ERROR ON LINE...SkIPPING (LAST TITLE ==> Ein Teil von mir)\n",
      "ERROR ON LINE...SkIPPING (LAST TITLE ==> Godheten)\n",
      "ERROR ON LINE...SkIPPING (LAST TITLE ==> Si può fare l'amore vestiti?)\n",
      "ERROR ON LINE...SkIPPING (LAST TITLE ==> Täterätää - Die Kirche bleibt im Dorf 2)\n",
      "ERROR ON LINE...SkIPPING (LAST TITLE ==> La pazza della porta accanto: conversazione con Alda Merini)\n"
     ]
    },
    {
     "name": "stderr",
     "output_type": "stream",
     "text": [
      "C:\\Users\\INYANG\\Anaconda3\\lib\\site-packages\\pymysql\\cursors.py:329: Warning: (1366, \"Incorrect string value: '\\\\xC4\\\\xB1c\\\\xC4\\\\xB1l...' for column 'title' at row 1\")\n",
      "  self._do_get_result()\n"
     ]
    },
    {
     "name": "stdout",
     "output_type": "stream",
     "text": [
      "ERROR ON LINE...SkIPPING (LAST TITLE ==> Millipilleri)\n",
      "ERROR ON LINE...SkIPPING (LAST TITLE ==> Noin 7 veljestä)\n",
      "ERROR ON LINE...SkIPPING (LAST TITLE ==> Aus Liebe zu Dir)\n",
      "ERROR ON LINE...SkIPPING (LAST TITLE ==> What Is Left)\n",
      "ERROR ON LINE...SkIPPING (LAST TITLE ==> Mágica Aventura)\n",
      "ERROR ON LINE...SkIPPING (LAST TITLE ==> Ich Chef, Du Turnschuh)\n",
      "ERROR ON LINE...SkIPPING (LAST TITLE ==> Queenie in Love)\n",
      "ERROR ON LINE...SkIPPING (LAST TITLE ==> Mio papà)\n",
      "ERROR ON LINE...SkIPPING (LAST TITLE ==> Unter Strom)\n",
      "ERROR ON LINE...SkIPPING (LAST TITLE ==> The Next Industrial Revolution)\n"
     ]
    },
    {
     "name": "stderr",
     "output_type": "stream",
     "text": [
      "C:\\Users\\INYANG\\Anaconda3\\lib\\site-packages\\pymysql\\cursors.py:329: Warning: (1366, \"Incorrect string value: '\\\\xE2\\\\x86\\\\x92 (\\\\xE2...' for column 'title' at row 1\")\n",
      "  self._do_get_result()\n",
      "C:\\Users\\INYANG\\Anaconda3\\lib\\site-packages\\pymysql\\cursors.py:329: Warning: (1366, \"Incorrect string value: '\\\\xC5\\\\x9F \\\\xC5\\\\x9Ee...' for column 'title' at row 1\")\n",
      "  self._do_get_result()\n"
     ]
    },
    {
     "name": "stdout",
     "output_type": "stream",
     "text": [
      "ERROR ON LINE...SkIPPING (LAST TITLE ==> Stanza 17-17 palazzo delle tasse, ufficio imposte)\n",
      "ERROR ON LINE...SkIPPING (LAST TITLE ==> Barrela: Escola de Crimes)\n",
      "ERROR ON LINE...SkIPPING (LAST TITLE ==> When the Dragon Swallowed the Sun)\n",
      "ERROR ON LINE...SkIPPING (LAST TITLE ==> Le nozze di Laura)\n",
      "ERROR ON LINE...SkIPPING (LAST TITLE ==> Storie sospese)\n",
      "ERROR ON LINE...SkIPPING (LAST TITLE ==> La caliente niña Julietta)\n",
      "ERROR ON LINE...SkIPPING (LAST TITLE ==> Un grand cri d'amour)\n",
      "ERROR ON LINE...SkIPPING (LAST TITLE ==> El río que nos lleva)\n",
      "ERROR ON LINE...SkIPPING (LAST TITLE ==> Basta Poco)\n",
      "ERROR ON LINE...SkIPPING (LAST TITLE ==> Nomi e cognomi)\n",
      "ERROR ON LINE...SkIPPING (LAST TITLE ==> Sus ojos se cerraron y el mundo sigue andando)\n",
      "ERROR ON LINE...SkIPPING (LAST TITLE ==> UFO... annientare S.H.A.D.O. stop. Uccidete Straker...)\n",
      "ERROR ON LINE...SkIPPING (LAST TITLE ==> UFO - Distruggete base Luna!)\n",
      "39815 Successful migrations, 185 errors \n"
     ]
    }
   ],
   "source": [
    "with connection.cursor() as cursor:\n",
    "    stored = 0\n",
    "    errors = 0\n",
    "    for index, data  in csv_file.head(40000).iterrows():\n",
    "        try:\n",
    "            # print(type(row[1]))\n",
    "            adult    = data[0]\n",
    "            budget   = data[1]\n",
    "            popularity = data[3]\n",
    "            try:\n",
    "                country =  ast.literal_eval(data[5])[0][\"name\"] #ast.literal_eval(data[5])[0][\"name\"]\n",
    "            except:\n",
    "                country = 'none'\n",
    "            date    = data[6]\n",
    "            revenue = data[7]\n",
    "            runtime = data[8]\n",
    "            title   = data[10] \n",
    "            votes   = data[11]\n",
    "\n",
    "            sql = f\"\"\"insert into films(adult, title, vote_avg, release_date, runtime, revenue, budget, country) \n",
    "                        values('{adult}', \"{title}\", {votes}, '{date}', {runtime}, {revenue}, {budget}, '{country}')\"\"\"\n",
    "\n",
    "    #         print(sql)\n",
    "            cursor.execute(sql)\n",
    "            connection.commit()\n",
    "            stored +=1\n",
    "        except:\n",
    "            print(f\"ERROR ON LINE...SkIPPING (LAST TITLE ==> {title})\")\n",
    "            errors += 1\n",
    "    \n",
    "    print(f\"\\n\\n{stored} Successful migrations, {errors} errors \")"
   ]
  }
 ],
 "metadata": {
  "kernelspec": {
   "display_name": "Python 3",
   "language": "python",
   "name": "python3"
  },
  "language_info": {
   "codemirror_mode": {
    "name": "ipython",
    "version": 3
   },
   "file_extension": ".py",
   "mimetype": "text/x-python",
   "name": "python",
   "nbconvert_exporter": "python",
   "pygments_lexer": "ipython3",
   "version": "3.7.0"
  }
 },
 "nbformat": 4,
 "nbformat_minor": 2
}
